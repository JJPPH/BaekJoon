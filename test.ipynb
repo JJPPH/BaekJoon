{
 "cells": [
  {
   "cell_type": "code",
   "execution_count": 61,
   "metadata": {},
   "outputs": [
    {
     "name": "stdout",
     "output_type": "stream",
     "text": [
      "list comprehension을 사용 : 0:00:00.749450 , (원소의 개수 : 10000)\n",
      "====================================================================================================\n",
      "list comprehension을 사용 : 0:00:00.002657 , (원소의 개수 : 100000)\n",
      "====================================================================================================\n",
      "list comprehension을 사용 : 0:00:00.045765 , (원소의 개수 : 1000000)\n",
      "====================================================================================================\n",
      "list comprehension을 사용 : 0:00:00.440671 , (원소의 개수 : 10000000)\n",
      "====================================================================================================\n",
      "list comprehension을 사용 : 0:00:04.356513 , (원소의 개수 : 100000000)\n",
      "====================================================================================================\n"
     ]
    }
   ],
   "source": [
    "from timeit import default_timer as timer\n",
    "from datetime import timedelta\n",
    "\n",
    "\n",
    "for list_len in [10000, 100000, 1000000, 10000000, 100000000]:\n",
    "    # start = timer()\n",
    "    # lst_1 = []\n",
    "    # for x in range(list_len):\n",
    "    #     lst_1.append(x)\n",
    "    # end = timer()\n",
    "    # running_time = timedelta(seconds=end - start)\n",
    "    # print(f\"for문을 사용              : {running_time} , (원소의 개수 : {list_len})\")\n",
    "\n",
    "    start = timer()\n",
    "    lst_2 = [x for x in range(list_len)]\n",
    "    end = timer()\n",
    "    running_time = timedelta(seconds=end - start)\n",
    "    print(f\"list comprehension을 사용 : {running_time} , (원소의 개수 : {list_len})\")\n",
    "    print(\"=\" * 100)"
   ]
  },
  {
   "cell_type": "code",
   "execution_count": 64,
   "metadata": {},
   "outputs": [
    {
     "name": "stdout",
     "output_type": "stream",
     "text": [
      "[2, 3, 5, 7, 11, 13, 17, 19, 23, 29, 31, 37, 41, 43, 47, 53, 59, 61, 67, 71, 73, 79, 83, 89, 97]\n"
     ]
    }
   ],
   "source": [
    "n = 100\n",
    "is_prime = [False, False] + [True] * (n - 1)\n",
    "\n",
    "for i in range(2, int(n**0.5) + 1):  # 2부터 n까지의 수 중 검사\n",
    "    if is_prime[i]:  # 소수인 경우 해당 소수의 배수를 제외\n",
    "        for j in range(2 * i, n + 1, i):\n",
    "            is_prime[j] = False"
   ]
  }
 ],
 "metadata": {
  "kernelspec": {
   "display_name": "base",
   "language": "python",
   "name": "python3"
  },
  "language_info": {
   "codemirror_mode": {
    "name": "ipython",
    "version": 3
   },
   "file_extension": ".py",
   "mimetype": "text/x-python",
   "name": "python",
   "nbconvert_exporter": "python",
   "pygments_lexer": "ipython3",
   "version": "3.10.9"
  },
  "orig_nbformat": 4
 },
 "nbformat": 4,
 "nbformat_minor": 2
}
