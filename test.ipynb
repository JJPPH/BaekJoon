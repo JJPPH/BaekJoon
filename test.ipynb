{
 "cells": [
  {
   "cell_type": "code",
   "execution_count": null,
   "metadata": {},
   "outputs": [],
   "source": [
    "from collections import defaultdict\n",
    "\n",
    "int_defaultdict = defaultdict(int)\n",
    "float_defaultdict = defaultdict(float)\n",
    "str_defaultdict = defaultdict(str)\n",
    "set_defaultdict = defaultdict(set)\n",
    "list_defaultdict = defaultdict(list)\n",
    "dict_defaultdict = defaultdict(dict)\n",
    "\n"
   ]
  },
  {
   "cell_type": "code",
   "execution_count": 16,
   "metadata": {},
   "outputs": [
    {
     "name": "stdout",
     "output_type": "stream",
     "text": [
      "t\n",
      "o\n",
      " \n",
      "b\n",
      "e\n",
      "r\n",
      "n\n",
      "h\n",
      "a\n",
      "i\n",
      "s\n",
      "q\n",
      "u\n",
      ".\n"
     ]
    }
   ],
   "source": [
    "word  = 'to be or not to be that is the question.'\n",
    "\n",
    "word_count_dict = defaultdict(int)\n",
    "for c in word:\n",
    "    word_count_dict[c]+=1\n",
    "\n",
    "for c in word_count_dict.values():\n",
    "    print(c)"
   ]
  }
 ],
 "metadata": {
  "kernelspec": {
   "display_name": "Python 3.9.12 ('base')",
   "language": "python",
   "name": "python3"
  },
  "language_info": {
   "codemirror_mode": {
    "name": "ipython",
    "version": 3
   },
   "file_extension": ".py",
   "mimetype": "text/x-python",
   "name": "python",
   "nbconvert_exporter": "python",
   "pygments_lexer": "ipython3",
   "version": "3.9.12"
  },
  "orig_nbformat": 4,
  "vscode": {
   "interpreter": {
    "hash": "a57cadd4da27d33cc8b965e5ce3519ac6feb3d25f687ae1dce4a382cf4ceb396"
   }
  }
 },
 "nbformat": 4,
 "nbformat_minor": 2
}
