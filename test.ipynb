{
 "cells": [
  {
   "cell_type": "code",
   "execution_count": 1,
   "metadata": {},
   "outputs": [
    {
     "name": "stdout",
     "output_type": "stream",
     "text": [
      "list comprehension을 사용 : 0:00:00.000349 , (원소의 개수 : 10000)\n",
      "====================================================================================================\n",
      "list comprehension을 사용 : 0:00:00.004804 , (원소의 개수 : 100000)\n",
      "====================================================================================================\n",
      "list comprehension을 사용 : 0:00:00.055127 , (원소의 개수 : 1000000)\n",
      "====================================================================================================\n",
      "list comprehension을 사용 : 0:00:00.561548 , (원소의 개수 : 10000000)\n",
      "====================================================================================================\n",
      "list comprehension을 사용 : 0:00:05.160844 , (원소의 개수 : 100000000)\n",
      "====================================================================================================\n"
     ]
    }
   ],
   "source": [
    "from timeit import default_timer as timer\n",
    "from datetime import timedelta\n",
    "\n",
    "\n",
    "for list_len in [10000, 100000, 1000000, 10000000, 100000000]:\n",
    "    # start = timer()\n",
    "    # lst_1 = []\n",
    "    # for x in range(list_len):\n",
    "    #     lst_1.append(x)\n",
    "    # end = timer()\n",
    "    # running_time = timedelta(seconds=end - start)\n",
    "    # print(f\"for문을 사용              : {running_time} , (원소의 개수 : {list_len})\")\n",
    "\n",
    "    start = timer()\n",
    "    lst_2 = [x for x in range(list_len)]\n",
    "    end = timer()\n",
    "    running_time = timedelta(seconds=end - start)\n",
    "    print(f\"list comprehension을 사용 : {running_time} , (원소의 개수 : {list_len})\")\n",
    "    print(\"=\" * 100)"
   ]
  },
  {
   "cell_type": "code",
   "execution_count": 6,
   "metadata": {},
   "outputs": [
    {
     "name": "stdout",
     "output_type": "stream",
     "text": [
      "[4]\n"
     ]
    }
   ],
   "source": [
    "lst = [1,2,3,4]\n",
    "\n",
    "print(lst[3:])"
   ]
  },
  {
   "cell_type": "code",
   "execution_count": 7,
   "metadata": {},
   "outputs": [
    {
     "name": "stdout",
     "output_type": "stream",
     "text": [
      "[3, 4]\n"
     ]
    }
   ],
   "source": [
    "lst = [1,2,3,4]\n",
    "\n",
    "print(lst[2:])"
   ]
  }
 ],
 "metadata": {
  "kernelspec": {
   "display_name": "base",
   "language": "python",
   "name": "python3"
  },
  "language_info": {
   "codemirror_mode": {
    "name": "ipython",
    "version": 3
   },
   "file_extension": ".py",
   "mimetype": "text/x-python",
   "name": "python",
   "nbconvert_exporter": "python",
   "pygments_lexer": "ipython3",
   "version": "3.10.9"
  },
  "orig_nbformat": 4
 },
 "nbformat": 4,
 "nbformat_minor": 2
}
